{
 "cells": [
  {
   "cell_type": "markdown",
   "metadata": {},
   "source": [
    "### HeroesOfPymoli\n",
    "* Pandas Challenge."
   ]
  },
  {
   "cell_type": "code",
   "execution_count": 30,
   "metadata": {},
   "outputs": [],
   "source": [
    "# Dependencies and Setup\n",
    "import pandas as pd\n",
    "import numpy as np\n",
    "\n",
    "# File to Load (Remember to Change These)\n",
    "file_to_load = \"Resources/purchase_data.csv\"\n",
    "\n",
    "# Read Purchasing File and store into Pandas data frame\n",
    "purchase_data = pd.read_csv(file_to_load)"
   ]
  },
  {
   "cell_type": "markdown",
   "metadata": {},
   "source": [
    "## Player Count"
   ]
  },
  {
   "cell_type": "markdown",
   "metadata": {},
   "source": [
    "* Display the total number of players\n"
   ]
  },
  {
   "cell_type": "code",
   "execution_count": 31,
   "metadata": {},
   "outputs": [
    {
     "data": {
      "text/html": [
       "<div>\n",
       "<style scoped>\n",
       "    .dataframe tbody tr th:only-of-type {\n",
       "        vertical-align: middle;\n",
       "    }\n",
       "\n",
       "    .dataframe tbody tr th {\n",
       "        vertical-align: top;\n",
       "    }\n",
       "\n",
       "    .dataframe thead th {\n",
       "        text-align: right;\n",
       "    }\n",
       "</style>\n",
       "<table border=\"1\" class=\"dataframe\">\n",
       "  <thead>\n",
       "    <tr style=\"text-align: right;\">\n",
       "      <th></th>\n",
       "      <th>Total Players</th>\n",
       "    </tr>\n",
       "  </thead>\n",
       "  <tbody>\n",
       "    <tr>\n",
       "      <td>0</td>\n",
       "      <td>576</td>\n",
       "    </tr>\n",
       "  </tbody>\n",
       "</table>\n",
       "</div>"
      ],
      "text/plain": [
       "   Total Players\n",
       "0            576"
      ]
     },
     "execution_count": 31,
     "metadata": {},
     "output_type": "execute_result"
    }
   ],
   "source": [
    "#get unique players\n",
    "total_players = purchase_data[\"SN\"].unique()\n",
    "#set up a dictionary\n",
    "playerDict = [{\"Total Players\":len(total_players)}]\n",
    "#set up a pandas Data Frame\n",
    "total_players_df = pd.DataFrame(playerDict)\n",
    "total_players_df#display the frame"
   ]
  },
  {
   "cell_type": "markdown",
   "metadata": {},
   "source": [
    "## Purchasing Analysis (Total)"
   ]
  },
  {
   "cell_type": "markdown",
   "metadata": {},
   "source": [
    "* Run basic calculations to obtain number of unique items, average price, etc.\n",
    "\n",
    "\n",
    "* Create a summary data frame to hold the results\n",
    "\n",
    "\n",
    "* Optional: give the displayed data cleaner formatting\n",
    "\n",
    "\n",
    "* Display the summary data frame\n"
   ]
  },
  {
   "cell_type": "code",
   "execution_count": 38,
   "metadata": {
    "scrolled": true
   },
   "outputs": [
    {
     "name": "stdout",
     "output_type": "stream",
     "text": [
      "Price: \\&#36;350k$ - &#36;450k\n"
     ]
    }
   ],
   "source": [
    "# purchase_data.columns\n",
    "# 'Purchase ID', 'SN', 'Age', 'Gender', 'Item ID', 'Item Name', 'Price'\n",
    "\n",
    "# Basic calculations to obtain \n",
    "#  number of unique items\n",
    "#  average price\n",
    "#  Number of Purchases\n",
    "#  Total Revenue\n",
    "\n",
    "# perform all the necessary calculations and store results\n",
    "unique_items  = len(purchase_data[\"Item ID\"].unique())\n",
    "average_price = purchase_data[\"Price\"].mean()\n",
    "num_purchases = len(purchase_data[\"Purchase ID\"].unique())\n",
    "total_revenue = purchase_data[\"Price\"].sum()\n",
    "\n",
    "# create a dictionary with column namess as key\n",
    "# and calcuated results as values\n",
    "summaryDict= [\n",
    "    {'Number of Unique Items':unique_items,\n",
    "     'Average Price':average_price,\n",
    "     'Number of Purchases':num_purchases,\n",
    "     'Total Revenue':total_revenue\n",
    "    }\n",
    "]\n",
    "\n",
    "#create a new pandas DataFrame using the dictionar\n",
    "summary_df = pd.DataFrame(summaryDict)\n",
    "\n",
    "summary_df['Average Price'] = summary_df['Average Price'].map(\"${:.2f}\".format)\n",
    "summary_df['Total Revenue'] = summary_df['Total Revenue'].map(\"${:.2f}\".format)\n",
    "summary_df\n",
    "\n",
    "print(\"Price: \\&#36;350k$ - &#36;450k\")\n"
   ]
  },
  {
   "cell_type": "markdown",
   "metadata": {},
   "source": [
    "## Gender Demographics"
   ]
  },
  {
   "cell_type": "markdown",
   "metadata": {},
   "source": [
    "* Percentage and Count of Male Players\n",
    "\n",
    "\n",
    "* Percentage and Count of Female Players\n",
    "\n",
    "\n",
    "* Percentage and Count of Other / Non-Disclosed\n",
    "\n",
    "\n"
   ]
  },
  {
   "cell_type": "code",
   "execution_count": null,
   "metadata": {},
   "outputs": [],
   "source": [
    "# count the unique number of male, female, other/non-disclosed\n",
    "# If we simply total all male/female/other/non-disclosed then\n",
    "# some players are counted more than once if they made multiple purchases\n",
    "\n",
    "# drop unique duplicates and rename the 'SN' column to 'Total Count'\n",
    "unique_df = purchase_data[['SN','Gender']].drop_duplicates()\n",
    "unique_df = unique_df.rename(columns={'SN': 'Total Count'})\n",
    "\n",
    "# Group the column by Gender \n",
    "gender_df = unique_df.groupby(\"Gender\")\n",
    "summ_df = gender_df.count().sort_values(\"Total Count\", ascending = False)\n",
    "\n",
    "summ_df[\"Percentage of Players\"] = (gender_df.count()/gender_df.count().sum()) * 100\n",
    "\n",
    "\n",
    "# Format the results to give the dat cleaner formatting \n",
    "# print_summ_df = summ_df.style.format({\n",
    "#     'Percentage of Players': '{:,.2f}%'.format,\n",
    "# })\n",
    "\n",
    "summ_df['Percentage of Players'] = summ_df['Percentage of Players'].map(\"{:.2f}%\".format)\n",
    "\n",
    "\n",
    "#  Display the summary data frame\n",
    "summ_df\n"
   ]
  },
  {
   "cell_type": "markdown",
   "metadata": {},
   "source": [
    "\n",
    "## Purchasing Analysis (Gender)"
   ]
  },
  {
   "cell_type": "markdown",
   "metadata": {},
   "source": [
    "* Run basic calculations to obtain purchase count, avg. purchase price, avg. purchase total per person etc. by gender\n",
    "\n",
    "\n",
    "\n",
    "\n",
    "* Create a summary data frame to hold the results\n",
    "\n",
    "\n",
    "* Optional: give the displayed data cleaner formatting\n",
    "\n",
    "\n",
    "* Display the summary data frame"
   ]
  },
  {
   "cell_type": "code",
   "execution_count": null,
   "metadata": {},
   "outputs": [],
   "source": [
    "# Group the data by gender\n",
    "gender_df = purchase_data.groupby(\"Gender\")\n",
    "\n",
    "#create a new dictionary with the necessary values\n",
    "d = {'Purchase ID': gender_df[\"Purchase ID\"].count(), \n",
    "     'Average Purchase Price': gender_df[\"Price\"].mean(),\n",
    "       'Total Purchase Value': gender_df[\"Price\"].sum(),\n",
    "       'Avg Total Purchase per Person': gender_df[\"Price\"].sum()/summ_df[\"Total Count\"],\n",
    "    }\n",
    "#create a new summaery data frame from the dictionary\n",
    "df = pd.DataFrame(data=d)\n",
    "\n",
    "# Give the displayed data cleaner formatting\n",
    "# format the currency values to 2 decimal places and preceed with athe dollar sign\n",
    "df['Average Purchase Price'] = df['Average Purchase Price'].map(\"${:.2f}\".format)\n",
    "df['Total Purchase Value'] = df['Total Purchase Value'].map(\"${:.2f}\".format)\n",
    "df['Avg Total Purchase per Person'] = df['Avg Total Purchase per Person'].map(\"${:.2f}\".format)\n",
    "\n",
    "# display the summary data frame\n",
    "df\n"
   ]
  },
  {
   "cell_type": "markdown",
   "metadata": {},
   "source": [
    "## Age Demographics"
   ]
  },
  {
   "cell_type": "markdown",
   "metadata": {},
   "source": [
    "* Establish bins for ages\n",
    "\n",
    "\n",
    "* Categorize the existing players using the age bins. Hint: use pd.cut()\n",
    "\n",
    "\n",
    "* Calculate the numbers and percentages by age group\n",
    "\n",
    "\n",
    "* Create a summary data frame to hold the results\n",
    "\n",
    "\n",
    "* Optional: round the percentage column to two decimal points\n",
    "\n",
    "\n",
    "* Display Age Demographics Table\n"
   ]
  },
  {
   "cell_type": "code",
   "execution_count": null,
   "metadata": {},
   "outputs": [],
   "source": [
    "upd_df = purchase_data[['SN','Gender', 'Age']].drop_duplicates()\n",
    "\n",
    "upd_df['ages_bins'] =pd.cut(x=upd_df['Age'], bins=[0, 9, 14, 19, 24, 29, 34, 39, 1000000],\n",
    "                             labels=['<10', '10-14', '15-19', '20-24', '25-29', '30-34','35-39', '40+'])\n",
    "\n",
    "grouped_bins = upd_df.groupby(['ages_bins'])\n",
    "grouped_bins['Age'].count()/len(upd_df)\n",
    "\n",
    "ab_d = {'Total Count': grouped_bins['Age'].count(), \n",
    "     'Percentage of Players': (grouped_bins['Age'].count()/len(upd_df)) * 100,\n",
    "    }\n",
    "#create a new summary data frame from the dictionary\n",
    "abdf = pd.DataFrame(data=ab_d)\n",
    "\n",
    "#abdf['Total Count'] = abdf['Total Count'].map(\"${:.2f}\".format)\n",
    "abdf['Percentage of Players'] = abdf['Percentage of Players'].map(\"{:.2f}%\".format)\n",
    "\n",
    "abdf"
   ]
  },
  {
   "cell_type": "markdown",
   "metadata": {},
   "source": [
    "## Purchasing Analysis (Age)"
   ]
  },
  {
   "cell_type": "markdown",
   "metadata": {},
   "source": [
    "* Bin the purchase_data data frame by age\n",
    "\n",
    "\n",
    "* Run basic calculations to obtain purchase count, avg. purchase price, avg. purchase total per person etc. in the table below\n",
    "\n",
    "\n",
    "* Create a summary data frame to hold the results\n",
    "\n",
    "\n",
    "* Optional: give the displayed data cleaner formatting\n",
    "\n",
    "\n",
    "* Display the summary data frame"
   ]
  },
  {
   "cell_type": "code",
   "execution_count": null,
   "metadata": {},
   "outputs": [],
   "source": [
    "# Bin the purchase_data data frame by age\n",
    "# Run basic calculations to obtain purchase count, avg. purchase price, avg. purchase total per person etc. in the table below\n",
    "# Create a summary data frame to hold the results\n",
    "# Optional: give the displayed data cleaner formatting\n",
    "# Display the summary data frame\n",
    "# 'Purchase ID', 'SN', 'Age', 'Gender', 'Item ID', 'Item Name', 'Price'\n",
    "upd_df = purchase_data[['Purchase ID', 'SN', 'Age', 'Gender', 'Item ID', 'Item Name', 'Price']].drop_duplicates()\n",
    "#print(len(upd_df))\n",
    "upd_df\n",
    "\n",
    "upd_df.columns\n",
    "\n",
    "upd_df['ages_bins'] =pd.cut(x=purchase_data['Age'], bins=[0, 9, 14, 19, 24, 29, 34, 39, 1000000],\n",
    "                             labels=['<10', '10-14', '15-19', '20-24', '25-29', '30-34','35-39', '40+'])\n",
    "\n",
    "agrouped_bins = upd_df.groupby(['ages_bins'])\n",
    "\n",
    "ab_df = {'Purchase Count': agrouped_bins['Purchase ID'].count(), \n",
    "         'Average Purchase Price': agrouped_bins['Price'].mean(),\n",
    "         'Total Purchase Value': agrouped_bins['Price'].sum(),\n",
    "         'Avg Total Purchase per Person':agrouped_bins['Price'].sum()/grouped_bins['Age'].count()\n",
    "    }\n",
    "#create a new summary data frame from the dictionary\n",
    "pa_df = pd.DataFrame(data=ab_df)\n",
    "\n",
    "pa_df['Average Purchase Price'] = pa_df['Average Purchase Price'].map(\"${:.2f}\".format)\n",
    "pa_df['Total Purchase Value'] = pa_df['Total Purchase Value'].map(\"${:.2f}\".format)\n",
    "pa_df['Avg Total Purchase per Person'] = pa_df['Avg Total Purchase per Person'].map(\"${:.2f}\".format)\n",
    "\n",
    "pa_df\n"
   ]
  },
  {
   "cell_type": "markdown",
   "metadata": {},
   "source": [
    "## Top Spenders"
   ]
  },
  {
   "cell_type": "markdown",
   "metadata": {},
   "source": [
    "* Run basic calculations to obtain the results in the table below\n",
    "\n",
    "\n",
    "* Create a summary data frame to hold the results\n",
    "\n",
    "\n",
    "* Sort the total purchase value column in descending order\n",
    "\n",
    "\n",
    "* Optional: give the displayed data cleaner formatting\n",
    "\n",
    "\n",
    "* Display a preview of the summary data frame\n",
    "\n"
   ]
  },
  {
   "cell_type": "code",
   "execution_count": null,
   "metadata": {
    "scrolled": true
   },
   "outputs": [],
   "source": [
    "# Group the data by gender\n",
    "ts_df = purchase_data.groupby(\"SN\")\n",
    "\n",
    "#create a new dictionary with the necessary values\n",
    "tsd = {'Purchase Count': ts_df[\"Purchase ID\"].count(), \n",
    "     'Average Purchase Price': ts_df[\"Price\"].mean(),\n",
    "       'Total Purchase Value': ts_df[\"Price\"].sum(),\n",
    "    }\n",
    "\n",
    "#create a new summary data frame from the dictionary\n",
    "tsdf = pd.DataFrame(data=tsd)\n",
    "sorted_ts = tsdf.sort_values(['Total Purchase Value'], ascending = False).head(5)\n",
    "\n",
    "\n",
    "sorted_ts['Average Purchase Price'] = sorted_ts['Average Purchase Price'].map(\"${:.2f}\".format)\n",
    "sorted_ts['Total Purchase Value'] = sorted_ts['Total Purchase Value'].map(\"${:.2f}\".format)\n",
    "\n",
    "sorted_ts"
   ]
  },
  {
   "cell_type": "markdown",
   "metadata": {},
   "source": [
    "## Most Popular Items"
   ]
  },
  {
   "cell_type": "markdown",
   "metadata": {},
   "source": [
    "* Retrieve the Item ID, Item Name, and Item Price columns\n",
    "\n",
    "\n",
    "* Group by Item ID and Item Name. Perform calculations to obtain purchase count, item price, and total purchase value\n",
    "\n",
    "\n",
    "* Create a summary data frame to hold the results\n",
    "\n",
    "\n",
    "* Sort the purchase count column in descending order\n",
    "\n",
    "\n",
    "* Optional: give the displayed data cleaner formatting\n",
    "\n",
    "\n",
    "* Display a preview of the summary data frame\n",
    "\n"
   ]
  },
  {
   "cell_type": "code",
   "execution_count": null,
   "metadata": {},
   "outputs": [],
   "source": [
    "# 'Purchase ID', 'SN', 'Age', 'Gender', 'Item ID', 'Item Name', 'Price'\n",
    "\n",
    "\n",
    "pi_df = purchase_data[['Item ID', 'Item Name', 'Price']]\n",
    "pi_df_grouped = pi_df.groupby(['Item ID', 'Item Name'])\n",
    "\n",
    "#create a new dictionary with the necessary values\n",
    "pi_d = {'Purchase Count': pi_df_grouped[\"Item ID\"].count(), \n",
    "        'Item Price': pi_df_grouped[\"Price\"].mean(),\n",
    "       'Total Purchase Value': pi_df_grouped[\"Price\"].sum(),\n",
    "    }\n",
    "\n",
    "#create a new summary data frame from the dictionary\n",
    "pi_df = pd.DataFrame(data=pi_d)\n",
    "sorted_pi = pi_df.sort_values(['Purchase Count'], ascending = False).head(5)\n",
    "\n",
    "\n",
    "pi_format_dict = {'Purchase Count': '{:,.0f}', \n",
    "                'Item Price': '${:,.2f}',\n",
    "                'Total Purchase Value': '${:,.2f}'}\n",
    "\n",
    "sorted_pi['Item Price'] = sorted_pi['Item Price'].map(\"${:.2f}\".format)\n",
    "sorted_pi['Total Purchase Value'] = sorted_pi['Total Purchase Value'].map(\"${:.2f}\".format)\n",
    "\n",
    "sorted_pi"
   ]
  },
  {
   "cell_type": "markdown",
   "metadata": {},
   "source": [
    "## Most Profitable Items"
   ]
  },
  {
   "cell_type": "markdown",
   "metadata": {},
   "source": [
    "* Sort the above table by total purchase value in descending order\n",
    "\n",
    "\n",
    "* Optional: give the displayed data cleaner formatting\n",
    "\n",
    "\n",
    "* Display a preview of the data frame\n",
    "\n"
   ]
  },
  {
   "cell_type": "code",
   "execution_count": null,
   "metadata": {
    "scrolled": true
   },
   "outputs": [],
   "source": [
    "sorted_pi2 = pi_df.sort_values(['Total Purchase Value'], ascending = False).head(5)\n",
    "\n",
    "sorted_pi2['Item Price'] = sorted_pi2['Item Price'].map(\"${:.2f}\".format)\n",
    "sorted_pi2['Total Purchase Value'] = sorted_pi2['Total Purchase Value'].map(\"${:.2f}\".format)\n",
    "\n",
    "sorted_pi2"
   ]
  },
  {
   "cell_type": "code",
   "execution_count": null,
   "metadata": {},
   "outputs": [],
   "source": []
  }
 ],
 "metadata": {
  "anaconda-cloud": {},
  "kernel_info": {
   "name": "python3"
  },
  "kernelspec": {
   "display_name": "Python 3",
   "language": "python",
   "name": "python3"
  },
  "language_info": {
   "codemirror_mode": {
    "name": "ipython",
    "version": 3
   },
   "file_extension": ".py",
   "mimetype": "text/x-python",
   "name": "python",
   "nbconvert_exporter": "python",
   "pygments_lexer": "ipython3",
   "version": "3.7.4"
  },
  "latex_envs": {
   "LaTeX_envs_menu_present": true,
   "autoclose": false,
   "autocomplete": true,
   "bibliofile": "biblio.bib",
   "cite_by": "apalike",
   "current_citInitial": 1,
   "eqLabelWithNumbers": true,
   "eqNumInitial": 1,
   "hotkeys": {
    "equation": "Ctrl-E",
    "itemize": "Ctrl-I"
   },
   "labels_anchors": false,
   "latex_user_defs": false,
   "report_style_numbering": false,
   "user_envs_cfg": false
  },
  "nteract": {
   "version": "0.2.0"
  }
 },
 "nbformat": 4,
 "nbformat_minor": 2
}
