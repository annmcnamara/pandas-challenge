{
 "cells": [
  {
   "cell_type": "markdown",
   "metadata": {},
   "source": [
    "### Note\n",
    "* Instructions have been included for each segment. You do not have to follow them exactly, but they are included to help you think through the steps."
   ]
  },
  {
   "cell_type": "code",
   "execution_count": 1,
   "metadata": {},
   "outputs": [],
   "source": [
    "# Dependencies and Setup\n",
    "import pandas as pd\n",
    "import numpy as np\n",
    "\n",
    "# File to Load (Remember to Change These)\n",
    "file_to_load = \"Resources/purchase_data.csv\"\n",
    "\n",
    "# Read Purchasing File and store into Pandas data frame\n",
    "purchase_data = pd.read_csv(file_to_load)"
   ]
  },
  {
   "cell_type": "code",
   "execution_count": 20,
   "metadata": {},
   "outputs": [
    {
     "data": {
      "text/html": [
       "<div>\n",
       "<style scoped>\n",
       "    .dataframe tbody tr th:only-of-type {\n",
       "        vertical-align: middle;\n",
       "    }\n",
       "\n",
       "    .dataframe tbody tr th {\n",
       "        vertical-align: top;\n",
       "    }\n",
       "\n",
       "    .dataframe thead th {\n",
       "        text-align: right;\n",
       "    }\n",
       "</style>\n",
       "<table border=\"1\" class=\"dataframe\">\n",
       "  <thead>\n",
       "    <tr style=\"text-align: right;\">\n",
       "      <th></th>\n",
       "      <th>Total Players</th>\n",
       "    </tr>\n",
       "  </thead>\n",
       "  <tbody>\n",
       "    <tr>\n",
       "      <th>0</th>\n",
       "      <td>576</td>\n",
       "    </tr>\n",
       "  </tbody>\n",
       "</table>\n",
       "</div>"
      ],
      "text/plain": [
       "   Total Players\n",
       "0            576"
      ]
     },
     "execution_count": 20,
     "metadata": {},
     "output_type": "execute_result"
    }
   ],
   "source": [
    "#get unique players\n",
    "total_players = purchase_data[\"SN\"].unique()\n",
    "#set up a dictionary\n",
    "playerDict = [{\"Total Players\":len(total_players)}]\n",
    "#set up a pandas Data Frame\n",
    "total_players_df = pd.DataFrame(playerDict)\n",
    "total_players_df"
   ]
  },
  {
   "cell_type": "markdown",
   "metadata": {},
   "source": [
    "## Player Count"
   ]
  },
  {
   "cell_type": "markdown",
   "metadata": {},
   "source": [
    "* Display the total number of players\n"
   ]
  },
  {
   "cell_type": "code",
   "execution_count": 2,
   "metadata": {},
   "outputs": [
    {
     "data": {
      "text/html": [
       "<div>\n",
       "<style scoped>\n",
       "    .dataframe tbody tr th:only-of-type {\n",
       "        vertical-align: middle;\n",
       "    }\n",
       "\n",
       "    .dataframe tbody tr th {\n",
       "        vertical-align: top;\n",
       "    }\n",
       "\n",
       "    .dataframe thead th {\n",
       "        text-align: right;\n",
       "    }\n",
       "</style>\n",
       "<table border=\"1\" class=\"dataframe\">\n",
       "  <thead>\n",
       "    <tr style=\"text-align: right;\">\n",
       "      <th></th>\n",
       "      <th>Total Players</th>\n",
       "    </tr>\n",
       "  </thead>\n",
       "  <tbody>\n",
       "    <tr>\n",
       "      <th>0</th>\n",
       "      <td>576</td>\n",
       "    </tr>\n",
       "  </tbody>\n",
       "</table>\n",
       "</div>"
      ],
      "text/plain": [
       "   Total Players\n",
       "0            576"
      ]
     },
     "execution_count": 2,
     "metadata": {},
     "output_type": "execute_result"
    }
   ],
   "source": []
  },
  {
   "cell_type": "code",
   "execution_count": 31,
   "metadata": {},
   "outputs": [
    {
     "data": {
      "text/html": [
       "<div>\n",
       "<style scoped>\n",
       "    .dataframe tbody tr th:only-of-type {\n",
       "        vertical-align: middle;\n",
       "    }\n",
       "\n",
       "    .dataframe tbody tr th {\n",
       "        vertical-align: top;\n",
       "    }\n",
       "\n",
       "    .dataframe thead th {\n",
       "        text-align: right;\n",
       "    }\n",
       "</style>\n",
       "<table border=\"1\" class=\"dataframe\">\n",
       "  <thead>\n",
       "    <tr style=\"text-align: right;\">\n",
       "      <th></th>\n",
       "      <th>Number of Unique Items</th>\n",
       "      <th>Average Price</th>\n",
       "      <th>Number of Purchases</th>\n",
       "      <th>Total Revenue</th>\n",
       "    </tr>\n",
       "  </thead>\n",
       "  <tbody>\n",
       "    <tr>\n",
       "      <th>0</th>\n",
       "      <td>183</td>\n",
       "      <td>3.05</td>\n",
       "      <td>780</td>\n",
       "      <td>2379.77</td>\n",
       "    </tr>\n",
       "  </tbody>\n",
       "</table>\n",
       "</div>"
      ],
      "text/plain": [
       "   Number of Unique Items  Average Price  Number of Purchases  Total Revenue\n",
       "0                     183           3.05                  780        2379.77"
      ]
     },
     "execution_count": 31,
     "metadata": {},
     "output_type": "execute_result"
    }
   ],
   "source": [
    "# purchase_data.columns\n",
    "# 'Purchase ID', 'SN', 'Age', 'Gender', 'Item ID', 'Item Name', 'Price'\n",
    "\n",
    "# Basic calculatinos to obtain \n",
    "#  number of unique items\n",
    "#  average price\n",
    "#  Number of Purchases\n",
    "#  Total Revenue\n",
    "\n",
    "unique_items  = len(purchase_data[\"Item ID\"].unique())\n",
    "average_price = purchase_data[\"Price\"].mean()\n",
    "num_purchases = len(purchase_data[\"Purchase ID\"].unique())\n",
    "total_revenue = purchase_data[\"Price\"].sum()\n",
    "\n",
    "# unique_items\n",
    "# average_price\n",
    "# num_purchases\n",
    "# total_revenue\n",
    "\n",
    "summaryDict= [\n",
    "    {\"Number of Unique Items\":unique_items ,\n",
    "     \"Average Price\":average_price,\n",
    "     \"Number of Purchases\":num_purchases,\n",
    "     \"Total Revenue\":total_revenue\n",
    "    }\n",
    "]\n",
    "summary_df = pd.DataFrame(summaryDict)\n",
    "summary_df.round(2)"
   ]
  },
  {
   "cell_type": "markdown",
   "metadata": {},
   "source": [
    "## Purchasing Analysis (Total)"
   ]
  },
  {
   "cell_type": "markdown",
   "metadata": {},
   "source": [
    "* Run basic calculations to obtain number of unique items, average price, etc.\n",
    "\n",
    "\n",
    "* Create a summary data frame to hold the results\n",
    "\n",
    "\n",
    "* Optional: give the displayed data cleaner formatting\n",
    "\n",
    "\n",
    "* Display the summary data frame\n"
   ]
  },
  {
   "cell_type": "code",
   "execution_count": 3,
   "metadata": {
    "scrolled": true
   },
   "outputs": [
    {
     "data": {
      "text/html": [
       "<div>\n",
       "<style scoped>\n",
       "    .dataframe tbody tr th:only-of-type {\n",
       "        vertical-align: middle;\n",
       "    }\n",
       "\n",
       "    .dataframe tbody tr th {\n",
       "        vertical-align: top;\n",
       "    }\n",
       "\n",
       "    .dataframe thead th {\n",
       "        text-align: right;\n",
       "    }\n",
       "</style>\n",
       "<table border=\"1\" class=\"dataframe\">\n",
       "  <thead>\n",
       "    <tr style=\"text-align: right;\">\n",
       "      <th></th>\n",
       "      <th>Number of Unique Items</th>\n",
       "      <th>Average Price</th>\n",
       "      <th>Number of Purchases</th>\n",
       "      <th>Total Revenue</th>\n",
       "    </tr>\n",
       "  </thead>\n",
       "  <tbody>\n",
       "    <tr>\n",
       "      <th>0</th>\n",
       "      <td>183</td>\n",
       "      <td>$3.05</td>\n",
       "      <td>780</td>\n",
       "      <td>$2,379.77</td>\n",
       "    </tr>\n",
       "  </tbody>\n",
       "</table>\n",
       "</div>"
      ],
      "text/plain": [
       "   Number of Unique Items Average Price Number of Purchases Total Revenue\n",
       "0                     183         $3.05                 780     $2,379.77"
      ]
     },
     "execution_count": 3,
     "metadata": {},
     "output_type": "execute_result"
    }
   ],
   "source": []
  },
  {
   "cell_type": "markdown",
   "metadata": {},
   "source": [
    "## Gender Demographics"
   ]
  },
  {
   "cell_type": "markdown",
   "metadata": {},
   "source": [
    "* Percentage and Count of Male Players\n",
    "\n",
    "\n",
    "* Percentage and Count of Female Players\n",
    "\n",
    "\n",
    "* Percentage and Count of Other / Non-Disclosed\n",
    "\n",
    "\n"
   ]
  },
  {
   "cell_type": "code",
   "execution_count": 175,
   "metadata": {},
   "outputs": [
    {
     "data": {
      "text/html": [
       "<style  type=\"text/css\" >\n",
       "</style><table id=\"T_b2ef42fe_54d6_11ea_a087_88e9fe60cdd4\" ><thead>    <tr>        <th class=\"blank level0\" ></th>        <th class=\"col_heading level0 col0\" >Total Count</th>        <th class=\"col_heading level0 col1\" >Percentage of Players</th>    </tr>    <tr>        <th class=\"index_name level0\" >Gender</th>        <th class=\"blank\" ></th>        <th class=\"blank\" ></th>    </tr></thead><tbody>\n",
       "                <tr>\n",
       "                        <th id=\"T_b2ef42fe_54d6_11ea_a087_88e9fe60cdd4level0_row0\" class=\"row_heading level0 row0\" >Male</th>\n",
       "                        <td id=\"T_b2ef42fe_54d6_11ea_a087_88e9fe60cdd4row0_col0\" class=\"data row0 col0\" >484</td>\n",
       "                        <td id=\"T_b2ef42fe_54d6_11ea_a087_88e9fe60cdd4row0_col1\" class=\"data row0 col1\" >84.03%</td>\n",
       "            </tr>\n",
       "            <tr>\n",
       "                        <th id=\"T_b2ef42fe_54d6_11ea_a087_88e9fe60cdd4level0_row1\" class=\"row_heading level0 row1\" >Female</th>\n",
       "                        <td id=\"T_b2ef42fe_54d6_11ea_a087_88e9fe60cdd4row1_col0\" class=\"data row1 col0\" >81</td>\n",
       "                        <td id=\"T_b2ef42fe_54d6_11ea_a087_88e9fe60cdd4row1_col1\" class=\"data row1 col1\" >14.06%</td>\n",
       "            </tr>\n",
       "            <tr>\n",
       "                        <th id=\"T_b2ef42fe_54d6_11ea_a087_88e9fe60cdd4level0_row2\" class=\"row_heading level0 row2\" >Other / Non-Disclosed</th>\n",
       "                        <td id=\"T_b2ef42fe_54d6_11ea_a087_88e9fe60cdd4row2_col0\" class=\"data row2 col0\" >11</td>\n",
       "                        <td id=\"T_b2ef42fe_54d6_11ea_a087_88e9fe60cdd4row2_col1\" class=\"data row2 col1\" >1.91%</td>\n",
       "            </tr>\n",
       "    </tbody></table>"
      ],
      "text/plain": [
       "<pandas.io.formats.style.Styler at 0x117d4e750>"
      ]
     },
     "execution_count": 175,
     "metadata": {},
     "output_type": "execute_result"
    }
   ],
   "source": [
    "# count the unique number of male, female, other/non-disclosed\n",
    "# If we simply total all male/female/other/non-disclosed then\n",
    "# some players are counted more than once if they made multiple purchases\n",
    "\n",
    "# drop unique duplicates and rename the 'SN' column to 'Total Count'\n",
    "unique_df = purchase_data[['SN','Gender']].drop_duplicates()\n",
    "unique_df = unique_df.rename(columns={'SN': 'Total Count'})\n",
    "\n",
    "# Group the column by Gender \n",
    "gender_df = unique_df.groupby(\"Gender\")\n",
    "summ_df = gender_df.count().sort_values(\"Total Count\", ascending = False)\n",
    "\n",
    "summ_df[\"Percentage of Players\"] = (gender_df.count()/gender_df.count().sum()) * 100\n",
    "\n",
    "\n",
    "# Format the results to give the dat cleaner formatting \n",
    "print_summ_df = summ_df.style.format({\n",
    "    'Percentage of Players': '{:,.2f}%'.format,\n",
    "})\n",
    "\n",
    "#  Display the summary data frame\n",
    "print_summ_df\n"
   ]
  },
  {
   "cell_type": "markdown",
   "metadata": {},
   "source": [
    "\n",
    "## Purchasing Analysis (Gender)"
   ]
  },
  {
   "cell_type": "code",
   "execution_count": 231,
   "metadata": {},
   "outputs": [
    {
     "data": {
      "text/html": [
       "<style  type=\"text/css\" >\n",
       "</style><table id=\"T_574a1e42_54e0_11ea_a087_88e9fe60cdd4\" ><thead>    <tr>        <th class=\"blank level0\" ></th>        <th class=\"col_heading level0 col0\" >Purchase ID</th>        <th class=\"col_heading level0 col1\" >Average Purchase Price</th>        <th class=\"col_heading level0 col2\" >Total Purchase Value</th>        <th class=\"col_heading level0 col3\" >Avg Total Purchase per Person</th>    </tr>    <tr>        <th class=\"index_name level0\" >Gender</th>        <th class=\"blank\" ></th>        <th class=\"blank\" ></th>        <th class=\"blank\" ></th>        <th class=\"blank\" ></th>    </tr></thead><tbody>\n",
       "                <tr>\n",
       "                        <th id=\"T_574a1e42_54e0_11ea_a087_88e9fe60cdd4level0_row0\" class=\"row_heading level0 row0\" >Female</th>\n",
       "                        <td id=\"T_574a1e42_54e0_11ea_a087_88e9fe60cdd4row0_col0\" class=\"data row0 col0\" >113</td>\n",
       "                        <td id=\"T_574a1e42_54e0_11ea_a087_88e9fe60cdd4row0_col1\" class=\"data row0 col1\" >$3.20</td>\n",
       "                        <td id=\"T_574a1e42_54e0_11ea_a087_88e9fe60cdd4row0_col2\" class=\"data row0 col2\" >$361.94</td>\n",
       "                        <td id=\"T_574a1e42_54e0_11ea_a087_88e9fe60cdd4row0_col3\" class=\"data row0 col3\" >$4.47</td>\n",
       "            </tr>\n",
       "            <tr>\n",
       "                        <th id=\"T_574a1e42_54e0_11ea_a087_88e9fe60cdd4level0_row1\" class=\"row_heading level0 row1\" >Male</th>\n",
       "                        <td id=\"T_574a1e42_54e0_11ea_a087_88e9fe60cdd4row1_col0\" class=\"data row1 col0\" >652</td>\n",
       "                        <td id=\"T_574a1e42_54e0_11ea_a087_88e9fe60cdd4row1_col1\" class=\"data row1 col1\" >$3.02</td>\n",
       "                        <td id=\"T_574a1e42_54e0_11ea_a087_88e9fe60cdd4row1_col2\" class=\"data row1 col2\" >$1,967.64</td>\n",
       "                        <td id=\"T_574a1e42_54e0_11ea_a087_88e9fe60cdd4row1_col3\" class=\"data row1 col3\" >$4.07</td>\n",
       "            </tr>\n",
       "            <tr>\n",
       "                        <th id=\"T_574a1e42_54e0_11ea_a087_88e9fe60cdd4level0_row2\" class=\"row_heading level0 row2\" >Other / Non-Disclosed</th>\n",
       "                        <td id=\"T_574a1e42_54e0_11ea_a087_88e9fe60cdd4row2_col0\" class=\"data row2 col0\" >15</td>\n",
       "                        <td id=\"T_574a1e42_54e0_11ea_a087_88e9fe60cdd4row2_col1\" class=\"data row2 col1\" >$3.35</td>\n",
       "                        <td id=\"T_574a1e42_54e0_11ea_a087_88e9fe60cdd4row2_col2\" class=\"data row2 col2\" >$50.19</td>\n",
       "                        <td id=\"T_574a1e42_54e0_11ea_a087_88e9fe60cdd4row2_col3\" class=\"data row2 col3\" >$4.56</td>\n",
       "            </tr>\n",
       "    </tbody></table>"
      ],
      "text/plain": [
       "<pandas.io.formats.style.Styler at 0x11459e290>"
      ]
     },
     "execution_count": 231,
     "metadata": {},
     "output_type": "execute_result"
    }
   ],
   "source": [
    "# Group the data by gender\n",
    "gender_df = purchase_data.groupby(\"Gender\")\n",
    "\n",
    "#create a new dictionary with the necessary values\n",
    "d = {'Purchase ID': gender_df[\"Purchase ID\"].count(), \n",
    "     'Average Purchase Price': gender_df[\"Price\"].mean(),\n",
    "       'Total Purchase Value': gender_df[\"Price\"].sum(),\n",
    "       'Avg Total Purchase per Person': gender_df[\"Price\"].sum()/summ_df[\"Total Count\"],\n",
    "    }\n",
    "#create a new summaery data frame from the dictionary\n",
    "df = pd.DataFrame(data=d)\n",
    "\n",
    "# Give the displayed data cleaner formatting\n",
    "# format the currency values to 2 decimal places and preceed with athe dollar sign\n",
    "format_dict = {'Average Purchase Price': '${:,.2f}', 'Total Purchase Value': '${:,.2f}','Avg Total Purchase per Person': '${:,.2f}'}\n",
    "print_df = df.style.format(format_dict)\n",
    "# display the summary data frame\n",
    "print_df\n"
   ]
  },
  {
   "cell_type": "code",
   "execution_count": null,
   "metadata": {},
   "outputs": [],
   "source": []
  },
  {
   "cell_type": "markdown",
   "metadata": {},
   "source": [
    "* Run basic calculations to obtain purchase count, avg. purchase price, avg. purchase total per person etc. by gender\n",
    "\n",
    "\n",
    "\n",
    "\n",
    "* Create a summary data frame to hold the results\n",
    "\n",
    "\n",
    "* Optional: give the displayed data cleaner formatting\n",
    "\n",
    "\n",
    "* Display the summary data frame"
   ]
  },
  {
   "cell_type": "code",
   "execution_count": 304,
   "metadata": {},
   "outputs": [
    {
     "name": "stdout",
     "output_type": "stream",
     "text": [
      "576\n"
     ]
    },
    {
     "data": {
      "text/html": [
       "<style  type=\"text/css\" >\n",
       "</style><table id=\"T_b7e9a074_54ea_11ea_a087_88e9fe60cdd4\" ><thead>    <tr>        <th class=\"blank level0\" ></th>        <th class=\"col_heading level0 col0\" >Total Count</th>        <th class=\"col_heading level0 col1\" >Percentage of Players</th>    </tr>    <tr>        <th class=\"index_name level0\" >ages_bins</th>        <th class=\"blank\" ></th>        <th class=\"blank\" ></th>    </tr></thead><tbody>\n",
       "                <tr>\n",
       "                        <th id=\"T_b7e9a074_54ea_11ea_a087_88e9fe60cdd4level0_row0\" class=\"row_heading level0 row0\" ><10</th>\n",
       "                        <td id=\"T_b7e9a074_54ea_11ea_a087_88e9fe60cdd4row0_col0\" class=\"data row0 col0\" >$17.00</td>\n",
       "                        <td id=\"T_b7e9a074_54ea_11ea_a087_88e9fe60cdd4row0_col1\" class=\"data row0 col1\" >2.95%</td>\n",
       "            </tr>\n",
       "            <tr>\n",
       "                        <th id=\"T_b7e9a074_54ea_11ea_a087_88e9fe60cdd4level0_row1\" class=\"row_heading level0 row1\" >10-14</th>\n",
       "                        <td id=\"T_b7e9a074_54ea_11ea_a087_88e9fe60cdd4row1_col0\" class=\"data row1 col0\" >$22.00</td>\n",
       "                        <td id=\"T_b7e9a074_54ea_11ea_a087_88e9fe60cdd4row1_col1\" class=\"data row1 col1\" >3.82%</td>\n",
       "            </tr>\n",
       "            <tr>\n",
       "                        <th id=\"T_b7e9a074_54ea_11ea_a087_88e9fe60cdd4level0_row2\" class=\"row_heading level0 row2\" >15-19</th>\n",
       "                        <td id=\"T_b7e9a074_54ea_11ea_a087_88e9fe60cdd4row2_col0\" class=\"data row2 col0\" >$107.00</td>\n",
       "                        <td id=\"T_b7e9a074_54ea_11ea_a087_88e9fe60cdd4row2_col1\" class=\"data row2 col1\" >18.58%</td>\n",
       "            </tr>\n",
       "            <tr>\n",
       "                        <th id=\"T_b7e9a074_54ea_11ea_a087_88e9fe60cdd4level0_row3\" class=\"row_heading level0 row3\" >20-24</th>\n",
       "                        <td id=\"T_b7e9a074_54ea_11ea_a087_88e9fe60cdd4row3_col0\" class=\"data row3 col0\" >$258.00</td>\n",
       "                        <td id=\"T_b7e9a074_54ea_11ea_a087_88e9fe60cdd4row3_col1\" class=\"data row3 col1\" >44.79%</td>\n",
       "            </tr>\n",
       "            <tr>\n",
       "                        <th id=\"T_b7e9a074_54ea_11ea_a087_88e9fe60cdd4level0_row4\" class=\"row_heading level0 row4\" >25-29</th>\n",
       "                        <td id=\"T_b7e9a074_54ea_11ea_a087_88e9fe60cdd4row4_col0\" class=\"data row4 col0\" >$77.00</td>\n",
       "                        <td id=\"T_b7e9a074_54ea_11ea_a087_88e9fe60cdd4row4_col1\" class=\"data row4 col1\" >13.37%</td>\n",
       "            </tr>\n",
       "            <tr>\n",
       "                        <th id=\"T_b7e9a074_54ea_11ea_a087_88e9fe60cdd4level0_row5\" class=\"row_heading level0 row5\" >30-34</th>\n",
       "                        <td id=\"T_b7e9a074_54ea_11ea_a087_88e9fe60cdd4row5_col0\" class=\"data row5 col0\" >$52.00</td>\n",
       "                        <td id=\"T_b7e9a074_54ea_11ea_a087_88e9fe60cdd4row5_col1\" class=\"data row5 col1\" >9.03%</td>\n",
       "            </tr>\n",
       "            <tr>\n",
       "                        <th id=\"T_b7e9a074_54ea_11ea_a087_88e9fe60cdd4level0_row6\" class=\"row_heading level0 row6\" >35-39</th>\n",
       "                        <td id=\"T_b7e9a074_54ea_11ea_a087_88e9fe60cdd4row6_col0\" class=\"data row6 col0\" >$31.00</td>\n",
       "                        <td id=\"T_b7e9a074_54ea_11ea_a087_88e9fe60cdd4row6_col1\" class=\"data row6 col1\" >5.38%</td>\n",
       "            </tr>\n",
       "            <tr>\n",
       "                        <th id=\"T_b7e9a074_54ea_11ea_a087_88e9fe60cdd4level0_row7\" class=\"row_heading level0 row7\" >40+</th>\n",
       "                        <td id=\"T_b7e9a074_54ea_11ea_a087_88e9fe60cdd4row7_col0\" class=\"data row7 col0\" >$12.00</td>\n",
       "                        <td id=\"T_b7e9a074_54ea_11ea_a087_88e9fe60cdd4row7_col1\" class=\"data row7 col1\" >2.08%</td>\n",
       "            </tr>\n",
       "    </tbody></table>"
      ],
      "text/plain": [
       "<pandas.io.formats.style.Styler at 0x11753d950>"
      ]
     },
     "execution_count": 304,
     "metadata": {},
     "output_type": "execute_result"
    }
   ],
   "source": [
    "upd_df = purchase_data[['SN','Gender', 'Age']].drop_duplicates()\n",
    "print(len(upd_df))\n",
    "upd_df\n",
    "\n",
    "ages_df['ages_bins'] =pd.cut(x=upd_df['Age'], bins=[0, 9, 14, 19, 24, 29, 34, 39, 1000000],\n",
    "                             labels=['<10', '10-14', '15-19', '20-24', '25-29', '30-34','35-39', '40+'])\n",
    "\n",
    "grouped_bins = ages_df.groupby(['ages_bins'])\n",
    "grouped_bins['Age'].count()/len(upd_df)\n",
    "\n",
    "ab_d = {'Total Count': grouped_bins['Age'].count(), \n",
    "     'Percentage of Players': (grouped_bins['Age'].count()/len(upd_df)) * 100,\n",
    "    }\n",
    "#create a new summary data frame from the dictionary\n",
    "abdf = pd.DataFrame(data=ab_d)\n",
    "\n",
    "agebin_format_dict = {'Total Count': '${:,.2f}', 'Percentage of Players': '{:,.2f}%'}\n",
    "agebin_print_df = abdf.style.format(agebin_format_dict)\n",
    "agebin_print_df\n"
   ]
  },
  {
   "cell_type": "markdown",
   "metadata": {},
   "source": [
    "## Age Demographics"
   ]
  },
  {
   "cell_type": "markdown",
   "metadata": {},
   "source": [
    "* Establish bins for ages\n",
    "\n",
    "\n",
    "* Categorize the existing players using the age bins. Hint: use pd.cut()\n",
    "\n",
    "\n",
    "* Calculate the numbers and percentages by age group\n",
    "\n",
    "\n",
    "* Create a summary data frame to hold the results\n",
    "\n",
    "\n",
    "* Optional: round the percentage column to two decimal points\n",
    "\n",
    "\n",
    "* Display Age Demographics Table\n"
   ]
  },
  {
   "cell_type": "code",
   "execution_count": 6,
   "metadata": {},
   "outputs": [
    {
     "data": {
      "text/html": [
       "<div>\n",
       "<style scoped>\n",
       "    .dataframe tbody tr th:only-of-type {\n",
       "        vertical-align: middle;\n",
       "    }\n",
       "\n",
       "    .dataframe tbody tr th {\n",
       "        vertical-align: top;\n",
       "    }\n",
       "\n",
       "    .dataframe thead th {\n",
       "        text-align: right;\n",
       "    }\n",
       "</style>\n",
       "<table border=\"1\" class=\"dataframe\">\n",
       "  <thead>\n",
       "    <tr style=\"text-align: right;\">\n",
       "      <th></th>\n",
       "      <th>Total Count</th>\n",
       "      <th>Percentage of Players</th>\n",
       "    </tr>\n",
       "  </thead>\n",
       "  <tbody>\n",
       "    <tr>\n",
       "      <th>&lt;10</th>\n",
       "      <td>17</td>\n",
       "      <td>2.95%</td>\n",
       "    </tr>\n",
       "    <tr>\n",
       "      <th>10-14</th>\n",
       "      <td>22</td>\n",
       "      <td>3.82%</td>\n",
       "    </tr>\n",
       "    <tr>\n",
       "      <th>15-19</th>\n",
       "      <td>107</td>\n",
       "      <td>18.58%</td>\n",
       "    </tr>\n",
       "    <tr>\n",
       "      <th>20-24</th>\n",
       "      <td>258</td>\n",
       "      <td>44.79%</td>\n",
       "    </tr>\n",
       "    <tr>\n",
       "      <th>25-29</th>\n",
       "      <td>77</td>\n",
       "      <td>13.37%</td>\n",
       "    </tr>\n",
       "    <tr>\n",
       "      <th>30-34</th>\n",
       "      <td>52</td>\n",
       "      <td>9.03%</td>\n",
       "    </tr>\n",
       "    <tr>\n",
       "      <th>35-39</th>\n",
       "      <td>31</td>\n",
       "      <td>5.38%</td>\n",
       "    </tr>\n",
       "    <tr>\n",
       "      <th>40+</th>\n",
       "      <td>12</td>\n",
       "      <td>2.08%</td>\n",
       "    </tr>\n",
       "  </tbody>\n",
       "</table>\n",
       "</div>"
      ],
      "text/plain": [
       "       Total Count Percentage of Players\n",
       "<10             17                 2.95%\n",
       "10-14           22                 3.82%\n",
       "15-19          107                18.58%\n",
       "20-24          258                44.79%\n",
       "25-29           77                13.37%\n",
       "30-34           52                 9.03%\n",
       "35-39           31                 5.38%\n",
       "40+             12                 2.08%"
      ]
     },
     "execution_count": 6,
     "metadata": {},
     "output_type": "execute_result"
    }
   ],
   "source": []
  },
  {
   "cell_type": "markdown",
   "metadata": {},
   "source": [
    "## Purchasing Analysis (Age)"
   ]
  },
  {
   "cell_type": "markdown",
   "metadata": {},
   "source": [
    "* Bin the purchase_data data frame by age\n",
    "\n",
    "\n",
    "* Run basic calculations to obtain purchase count, avg. purchase price, avg. purchase total per person etc. in the table below\n",
    "\n",
    "\n",
    "* Create a summary data frame to hold the results\n",
    "\n",
    "\n",
    "* Optional: give the displayed data cleaner formatting\n",
    "\n",
    "\n",
    "* Display the summary data frame"
   ]
  },
  {
   "cell_type": "code",
   "execution_count": 7,
   "metadata": {},
   "outputs": [
    {
     "data": {
      "text/html": [
       "<div>\n",
       "<style scoped>\n",
       "    .dataframe tbody tr th:only-of-type {\n",
       "        vertical-align: middle;\n",
       "    }\n",
       "\n",
       "    .dataframe tbody tr th {\n",
       "        vertical-align: top;\n",
       "    }\n",
       "\n",
       "    .dataframe thead th {\n",
       "        text-align: right;\n",
       "    }\n",
       "</style>\n",
       "<table border=\"1\" class=\"dataframe\">\n",
       "  <thead>\n",
       "    <tr style=\"text-align: right;\">\n",
       "      <th></th>\n",
       "      <th>Purchase Count</th>\n",
       "      <th>Average Purchase Price</th>\n",
       "      <th>Total Purchase Value</th>\n",
       "      <th>Avg Total Purchase per Person</th>\n",
       "    </tr>\n",
       "    <tr>\n",
       "      <th>Age Ranges</th>\n",
       "      <th></th>\n",
       "      <th></th>\n",
       "      <th></th>\n",
       "      <th></th>\n",
       "    </tr>\n",
       "  </thead>\n",
       "  <tbody>\n",
       "    <tr>\n",
       "      <th>&lt;10</th>\n",
       "      <td>23</td>\n",
       "      <td>$3.35</td>\n",
       "      <td>$77.13</td>\n",
       "      <td>$4.54</td>\n",
       "    </tr>\n",
       "    <tr>\n",
       "      <th>10-14</th>\n",
       "      <td>28</td>\n",
       "      <td>$2.96</td>\n",
       "      <td>$82.78</td>\n",
       "      <td>$3.76</td>\n",
       "    </tr>\n",
       "    <tr>\n",
       "      <th>15-19</th>\n",
       "      <td>136</td>\n",
       "      <td>$3.04</td>\n",
       "      <td>$412.89</td>\n",
       "      <td>$3.86</td>\n",
       "    </tr>\n",
       "    <tr>\n",
       "      <th>20-24</th>\n",
       "      <td>365</td>\n",
       "      <td>$3.05</td>\n",
       "      <td>$1,114.06</td>\n",
       "      <td>$4.32</td>\n",
       "    </tr>\n",
       "    <tr>\n",
       "      <th>25-29</th>\n",
       "      <td>101</td>\n",
       "      <td>$2.90</td>\n",
       "      <td>$293.00</td>\n",
       "      <td>$3.81</td>\n",
       "    </tr>\n",
       "    <tr>\n",
       "      <th>30-34</th>\n",
       "      <td>73</td>\n",
       "      <td>$2.93</td>\n",
       "      <td>$214.00</td>\n",
       "      <td>$4.12</td>\n",
       "    </tr>\n",
       "    <tr>\n",
       "      <th>35-39</th>\n",
       "      <td>41</td>\n",
       "      <td>$3.60</td>\n",
       "      <td>$147.67</td>\n",
       "      <td>$4.76</td>\n",
       "    </tr>\n",
       "    <tr>\n",
       "      <th>40+</th>\n",
       "      <td>13</td>\n",
       "      <td>$2.94</td>\n",
       "      <td>$38.24</td>\n",
       "      <td>$3.19</td>\n",
       "    </tr>\n",
       "  </tbody>\n",
       "</table>\n",
       "</div>"
      ],
      "text/plain": [
       "           Purchase Count Average Purchase Price Total Purchase Value  \\\n",
       "Age Ranges                                                              \n",
       "<10                    23                  $3.35               $77.13   \n",
       "10-14                  28                  $2.96               $82.78   \n",
       "15-19                 136                  $3.04              $412.89   \n",
       "20-24                 365                  $3.05            $1,114.06   \n",
       "25-29                 101                  $2.90              $293.00   \n",
       "30-34                  73                  $2.93              $214.00   \n",
       "35-39                  41                  $3.60              $147.67   \n",
       "40+                    13                  $2.94               $38.24   \n",
       "\n",
       "           Avg Total Purchase per Person  \n",
       "Age Ranges                                \n",
       "<10                                $4.54  \n",
       "10-14                              $3.76  \n",
       "15-19                              $3.86  \n",
       "20-24                              $4.32  \n",
       "25-29                              $3.81  \n",
       "30-34                              $4.12  \n",
       "35-39                              $4.76  \n",
       "40+                                $3.19  "
      ]
     },
     "execution_count": 7,
     "metadata": {},
     "output_type": "execute_result"
    }
   ],
   "source": []
  },
  {
   "cell_type": "code",
   "execution_count": 314,
   "metadata": {},
   "outputs": [
    {
     "data": {
      "text/html": [
       "<style  type=\"text/css\" >\n",
       "</style><table id=\"T_030c2846_54ec_11ea_a087_88e9fe60cdd4\" ><thead>    <tr>        <th class=\"blank level0\" ></th>        <th class=\"col_heading level0 col0\" >Purchase Count</th>        <th class=\"col_heading level0 col1\" >Average Purchase Price</th>        <th class=\"col_heading level0 col2\" >Total Purchase Value</th>        <th class=\"col_heading level0 col3\" >Avg Total Purchase per Person</th>    </tr>    <tr>        <th class=\"index_name level0\" >ages_bins</th>        <th class=\"blank\" ></th>        <th class=\"blank\" ></th>        <th class=\"blank\" ></th>        <th class=\"blank\" ></th>    </tr></thead><tbody>\n",
       "                <tr>\n",
       "                        <th id=\"T_030c2846_54ec_11ea_a087_88e9fe60cdd4level0_row0\" class=\"row_heading level0 row0\" ><10</th>\n",
       "                        <td id=\"T_030c2846_54ec_11ea_a087_88e9fe60cdd4row0_col0\" class=\"data row0 col0\" >23</td>\n",
       "                        <td id=\"T_030c2846_54ec_11ea_a087_88e9fe60cdd4row0_col1\" class=\"data row0 col1\" >$3.35</td>\n",
       "                        <td id=\"T_030c2846_54ec_11ea_a087_88e9fe60cdd4row0_col2\" class=\"data row0 col2\" >$77.13</td>\n",
       "                        <td id=\"T_030c2846_54ec_11ea_a087_88e9fe60cdd4row0_col3\" class=\"data row0 col3\" >$4.54</td>\n",
       "            </tr>\n",
       "            <tr>\n",
       "                        <th id=\"T_030c2846_54ec_11ea_a087_88e9fe60cdd4level0_row1\" class=\"row_heading level0 row1\" >10-14</th>\n",
       "                        <td id=\"T_030c2846_54ec_11ea_a087_88e9fe60cdd4row1_col0\" class=\"data row1 col0\" >28</td>\n",
       "                        <td id=\"T_030c2846_54ec_11ea_a087_88e9fe60cdd4row1_col1\" class=\"data row1 col1\" >$2.96</td>\n",
       "                        <td id=\"T_030c2846_54ec_11ea_a087_88e9fe60cdd4row1_col2\" class=\"data row1 col2\" >$82.78</td>\n",
       "                        <td id=\"T_030c2846_54ec_11ea_a087_88e9fe60cdd4row1_col3\" class=\"data row1 col3\" >$3.76</td>\n",
       "            </tr>\n",
       "            <tr>\n",
       "                        <th id=\"T_030c2846_54ec_11ea_a087_88e9fe60cdd4level0_row2\" class=\"row_heading level0 row2\" >15-19</th>\n",
       "                        <td id=\"T_030c2846_54ec_11ea_a087_88e9fe60cdd4row2_col0\" class=\"data row2 col0\" >136</td>\n",
       "                        <td id=\"T_030c2846_54ec_11ea_a087_88e9fe60cdd4row2_col1\" class=\"data row2 col1\" >$3.04</td>\n",
       "                        <td id=\"T_030c2846_54ec_11ea_a087_88e9fe60cdd4row2_col2\" class=\"data row2 col2\" >$412.89</td>\n",
       "                        <td id=\"T_030c2846_54ec_11ea_a087_88e9fe60cdd4row2_col3\" class=\"data row2 col3\" >$3.86</td>\n",
       "            </tr>\n",
       "            <tr>\n",
       "                        <th id=\"T_030c2846_54ec_11ea_a087_88e9fe60cdd4level0_row3\" class=\"row_heading level0 row3\" >20-24</th>\n",
       "                        <td id=\"T_030c2846_54ec_11ea_a087_88e9fe60cdd4row3_col0\" class=\"data row3 col0\" >365</td>\n",
       "                        <td id=\"T_030c2846_54ec_11ea_a087_88e9fe60cdd4row3_col1\" class=\"data row3 col1\" >$3.05</td>\n",
       "                        <td id=\"T_030c2846_54ec_11ea_a087_88e9fe60cdd4row3_col2\" class=\"data row3 col2\" >$1,114.06</td>\n",
       "                        <td id=\"T_030c2846_54ec_11ea_a087_88e9fe60cdd4row3_col3\" class=\"data row3 col3\" >$4.32</td>\n",
       "            </tr>\n",
       "            <tr>\n",
       "                        <th id=\"T_030c2846_54ec_11ea_a087_88e9fe60cdd4level0_row4\" class=\"row_heading level0 row4\" >25-29</th>\n",
       "                        <td id=\"T_030c2846_54ec_11ea_a087_88e9fe60cdd4row4_col0\" class=\"data row4 col0\" >101</td>\n",
       "                        <td id=\"T_030c2846_54ec_11ea_a087_88e9fe60cdd4row4_col1\" class=\"data row4 col1\" >$2.90</td>\n",
       "                        <td id=\"T_030c2846_54ec_11ea_a087_88e9fe60cdd4row4_col2\" class=\"data row4 col2\" >$293.00</td>\n",
       "                        <td id=\"T_030c2846_54ec_11ea_a087_88e9fe60cdd4row4_col3\" class=\"data row4 col3\" >$3.81</td>\n",
       "            </tr>\n",
       "            <tr>\n",
       "                        <th id=\"T_030c2846_54ec_11ea_a087_88e9fe60cdd4level0_row5\" class=\"row_heading level0 row5\" >30-34</th>\n",
       "                        <td id=\"T_030c2846_54ec_11ea_a087_88e9fe60cdd4row5_col0\" class=\"data row5 col0\" >73</td>\n",
       "                        <td id=\"T_030c2846_54ec_11ea_a087_88e9fe60cdd4row5_col1\" class=\"data row5 col1\" >$2.93</td>\n",
       "                        <td id=\"T_030c2846_54ec_11ea_a087_88e9fe60cdd4row5_col2\" class=\"data row5 col2\" >$214.00</td>\n",
       "                        <td id=\"T_030c2846_54ec_11ea_a087_88e9fe60cdd4row5_col3\" class=\"data row5 col3\" >$4.12</td>\n",
       "            </tr>\n",
       "            <tr>\n",
       "                        <th id=\"T_030c2846_54ec_11ea_a087_88e9fe60cdd4level0_row6\" class=\"row_heading level0 row6\" >35-39</th>\n",
       "                        <td id=\"T_030c2846_54ec_11ea_a087_88e9fe60cdd4row6_col0\" class=\"data row6 col0\" >41</td>\n",
       "                        <td id=\"T_030c2846_54ec_11ea_a087_88e9fe60cdd4row6_col1\" class=\"data row6 col1\" >$3.60</td>\n",
       "                        <td id=\"T_030c2846_54ec_11ea_a087_88e9fe60cdd4row6_col2\" class=\"data row6 col2\" >$147.67</td>\n",
       "                        <td id=\"T_030c2846_54ec_11ea_a087_88e9fe60cdd4row6_col3\" class=\"data row6 col3\" >$4.76</td>\n",
       "            </tr>\n",
       "            <tr>\n",
       "                        <th id=\"T_030c2846_54ec_11ea_a087_88e9fe60cdd4level0_row7\" class=\"row_heading level0 row7\" >40+</th>\n",
       "                        <td id=\"T_030c2846_54ec_11ea_a087_88e9fe60cdd4row7_col0\" class=\"data row7 col0\" >13</td>\n",
       "                        <td id=\"T_030c2846_54ec_11ea_a087_88e9fe60cdd4row7_col1\" class=\"data row7 col1\" >$2.94</td>\n",
       "                        <td id=\"T_030c2846_54ec_11ea_a087_88e9fe60cdd4row7_col2\" class=\"data row7 col2\" >$38.24</td>\n",
       "                        <td id=\"T_030c2846_54ec_11ea_a087_88e9fe60cdd4row7_col3\" class=\"data row7 col3\" >$3.19</td>\n",
       "            </tr>\n",
       "    </tbody></table>"
      ],
      "text/plain": [
       "<pandas.io.formats.style.Styler at 0x119116650>"
      ]
     },
     "execution_count": 314,
     "metadata": {},
     "output_type": "execute_result"
    }
   ],
   "source": [
    "# Bin the purchase_data data frame by age\n",
    "# Run basic calculations to obtain purchase count, avg. purchase price, avg. purchase total per person etc. in the table below\n",
    "# Create a summary data frame to hold the results\n",
    "# Optional: give the displayed data cleaner formatting\n",
    "# Display the summary data frame\n",
    "# 'Purchase ID', 'SN', 'Age', 'Gender', 'Item ID', 'Item Name', 'Price'\n",
    "\n",
    "ages_df['ages_bins'] =pd.cut(x=purchase_data['Age'], bins=[0, 9, 14, 19, 24, 29, 34, 39, 1000000],\n",
    "                             labels=['<10', '10-14', '15-19', '20-24', '25-29', '30-34','35-39', '40+'])\n",
    "\n",
    "agrouped_bins = ages_df.groupby(['ages_bins'])\n",
    "\n",
    "ab_df = {'Purchase Count': agrouped_bins['Purchase ID'].count(), \n",
    "         'Average Purchase Price': agrouped_bins['Price'].mean() ,\n",
    "         'Total Purchase Value': agrouped_bins['Price'].sum(),\n",
    "         'Avg Total Purchase per Person':agrouped_bins['Price'].sum()/grouped_bins['Age'].count()\n",
    "    }\n",
    "#create a new summary data frame from the dictionary\n",
    "pa_df = pd.DataFrame(data=ab_df)\n",
    "\n",
    "pa_agebin_format_dict = {'Average Purchase Price': '${:,.2f}', \n",
    "                         'Total Purchase Value': '${:,.2f}',\n",
    "                         'Avg Total Purchase per Person': '${:,.2f}'}\n",
    "pa_agebin_print_df = pa_df.style.format(pa_agebin_format_dict)\n",
    "pa_agebin_print_df\n"
   ]
  },
  {
   "cell_type": "markdown",
   "metadata": {},
   "source": [
    "## Top Spenders"
   ]
  },
  {
   "cell_type": "markdown",
   "metadata": {},
   "source": [
    "* Run basic calculations to obtain the results in the table below\n",
    "\n",
    "\n",
    "* Create a summary data frame to hold the results\n",
    "\n",
    "\n",
    "* Sort the total purchase value column in descending order\n",
    "\n",
    "\n",
    "* Optional: give the displayed data cleaner formatting\n",
    "\n",
    "\n",
    "* Display a preview of the summary data frame\n",
    "\n"
   ]
  },
  {
   "cell_type": "code",
   "execution_count": 372,
   "metadata": {
    "scrolled": true
   },
   "outputs": [
    {
     "data": {
      "text/html": [
       "<style  type=\"text/css\" >\n",
       "</style><table id=\"T_076c2c2e_54f1_11ea_a087_88e9fe60cdd4\" ><thead>    <tr>        <th class=\"blank level0\" ></th>        <th class=\"col_heading level0 col0\" >Purchase Count</th>        <th class=\"col_heading level0 col1\" >Average Purchase Price</th>        <th class=\"col_heading level0 col2\" >Total Purchase Value</th>    </tr>    <tr>        <th class=\"index_name level0\" >SN</th>        <th class=\"blank\" ></th>        <th class=\"blank\" ></th>        <th class=\"blank\" ></th>    </tr></thead><tbody>\n",
       "                <tr>\n",
       "                        <th id=\"T_076c2c2e_54f1_11ea_a087_88e9fe60cdd4level0_row0\" class=\"row_heading level0 row0\" >Lisosia93</th>\n",
       "                        <td id=\"T_076c2c2e_54f1_11ea_a087_88e9fe60cdd4row0_col0\" class=\"data row0 col0\" >5</td>\n",
       "                        <td id=\"T_076c2c2e_54f1_11ea_a087_88e9fe60cdd4row0_col1\" class=\"data row0 col1\" >$3.79</td>\n",
       "                        <td id=\"T_076c2c2e_54f1_11ea_a087_88e9fe60cdd4row0_col2\" class=\"data row0 col2\" >$18.96</td>\n",
       "            </tr>\n",
       "            <tr>\n",
       "                        <th id=\"T_076c2c2e_54f1_11ea_a087_88e9fe60cdd4level0_row1\" class=\"row_heading level0 row1\" >Idastidru52</th>\n",
       "                        <td id=\"T_076c2c2e_54f1_11ea_a087_88e9fe60cdd4row1_col0\" class=\"data row1 col0\" >4</td>\n",
       "                        <td id=\"T_076c2c2e_54f1_11ea_a087_88e9fe60cdd4row1_col1\" class=\"data row1 col1\" >$3.86</td>\n",
       "                        <td id=\"T_076c2c2e_54f1_11ea_a087_88e9fe60cdd4row1_col2\" class=\"data row1 col2\" >$15.45</td>\n",
       "            </tr>\n",
       "            <tr>\n",
       "                        <th id=\"T_076c2c2e_54f1_11ea_a087_88e9fe60cdd4level0_row2\" class=\"row_heading level0 row2\" >Chamjask73</th>\n",
       "                        <td id=\"T_076c2c2e_54f1_11ea_a087_88e9fe60cdd4row2_col0\" class=\"data row2 col0\" >3</td>\n",
       "                        <td id=\"T_076c2c2e_54f1_11ea_a087_88e9fe60cdd4row2_col1\" class=\"data row2 col1\" >$4.61</td>\n",
       "                        <td id=\"T_076c2c2e_54f1_11ea_a087_88e9fe60cdd4row2_col2\" class=\"data row2 col2\" >$13.83</td>\n",
       "            </tr>\n",
       "            <tr>\n",
       "                        <th id=\"T_076c2c2e_54f1_11ea_a087_88e9fe60cdd4level0_row3\" class=\"row_heading level0 row3\" >Iral74</th>\n",
       "                        <td id=\"T_076c2c2e_54f1_11ea_a087_88e9fe60cdd4row3_col0\" class=\"data row3 col0\" >4</td>\n",
       "                        <td id=\"T_076c2c2e_54f1_11ea_a087_88e9fe60cdd4row3_col1\" class=\"data row3 col1\" >$3.40</td>\n",
       "                        <td id=\"T_076c2c2e_54f1_11ea_a087_88e9fe60cdd4row3_col2\" class=\"data row3 col2\" >$13.62</td>\n",
       "            </tr>\n",
       "            <tr>\n",
       "                        <th id=\"T_076c2c2e_54f1_11ea_a087_88e9fe60cdd4level0_row4\" class=\"row_heading level0 row4\" >Iskadarya95</th>\n",
       "                        <td id=\"T_076c2c2e_54f1_11ea_a087_88e9fe60cdd4row4_col0\" class=\"data row4 col0\" >3</td>\n",
       "                        <td id=\"T_076c2c2e_54f1_11ea_a087_88e9fe60cdd4row4_col1\" class=\"data row4 col1\" >$4.37</td>\n",
       "                        <td id=\"T_076c2c2e_54f1_11ea_a087_88e9fe60cdd4row4_col2\" class=\"data row4 col2\" >$13.10</td>\n",
       "            </tr>\n",
       "    </tbody></table>"
      ],
      "text/plain": [
       "<pandas.io.formats.style.Styler at 0x115fb4c50>"
      ]
     },
     "execution_count": 372,
     "metadata": {},
     "output_type": "execute_result"
    }
   ],
   "source": [
    "# Group the data by gender\n",
    "ts_df = purchase_data.groupby(\"SN\")\n",
    "\n",
    "#create a new dictionary with the necessary values\n",
    "tsd = {'Purchase Count': ts_df[\"Purchase ID\"].count(), \n",
    "     'Average Purchase Price': ts_df[\"Price\"].mean(),\n",
    "       'Total Purchase Value': ts_df[\"Price\"].sum(),\n",
    "    }\n",
    "\n",
    "#create a new summary data frame from the dictionary\n",
    "tsdf = pd.DataFrame(data=tsd)\n",
    "sorted_ts = tsdf.sort_values(['Total Purchase Value'], ascending = False).head(5)\n",
    "\n",
    "\n",
    "ts_format_dict = {'Purchase Count': '{:,.0f}', \n",
    "                'Average Purchase Price': '${:,.2f}',\n",
    "                'Total Purchase Value': '${:,.2f}'}\n",
    "ts_print_df = sorted_ts.style.format(ts_format_dict)\n",
    "ts_print_df\n"
   ]
  },
  {
   "cell_type": "markdown",
   "metadata": {},
   "source": [
    "## Most Popular Items"
   ]
  },
  {
   "cell_type": "markdown",
   "metadata": {},
   "source": [
    "* Retrieve the Item ID, Item Name, and Item Price columns\n",
    "\n",
    "\n",
    "* Group by Item ID and Item Name. Perform calculations to obtain purchase count, item price, and total purchase value\n",
    "\n",
    "\n",
    "* Create a summary data frame to hold the results\n",
    "\n",
    "\n",
    "* Sort the purchase count column in descending order\n",
    "\n",
    "\n",
    "* Optional: give the displayed data cleaner formatting\n",
    "\n",
    "\n",
    "* Display a preview of the summary data frame\n",
    "\n"
   ]
  },
  {
   "cell_type": "code",
   "execution_count": 9,
   "metadata": {},
   "outputs": [
    {
     "data": {
      "text/html": [
       "<div>\n",
       "<style scoped>\n",
       "    .dataframe tbody tr th:only-of-type {\n",
       "        vertical-align: middle;\n",
       "    }\n",
       "\n",
       "    .dataframe tbody tr th {\n",
       "        vertical-align: top;\n",
       "    }\n",
       "\n",
       "    .dataframe thead th {\n",
       "        text-align: right;\n",
       "    }\n",
       "</style>\n",
       "<table border=\"1\" class=\"dataframe\">\n",
       "  <thead>\n",
       "    <tr style=\"text-align: right;\">\n",
       "      <th></th>\n",
       "      <th></th>\n",
       "      <th>Purchase Count</th>\n",
       "      <th>Item Price</th>\n",
       "      <th>Total Purchase Value</th>\n",
       "    </tr>\n",
       "    <tr>\n",
       "      <th>Item ID</th>\n",
       "      <th>Item Name</th>\n",
       "      <th></th>\n",
       "      <th></th>\n",
       "      <th></th>\n",
       "    </tr>\n",
       "  </thead>\n",
       "  <tbody>\n",
       "    <tr>\n",
       "      <th>178</th>\n",
       "      <th>Oathbreaker, Last Hope of the Breaking Storm</th>\n",
       "      <td>12</td>\n",
       "      <td>$4.23</td>\n",
       "      <td>$50.76</td>\n",
       "    </tr>\n",
       "    <tr>\n",
       "      <th>145</th>\n",
       "      <th>Fiery Glass Crusader</th>\n",
       "      <td>9</td>\n",
       "      <td>$4.58</td>\n",
       "      <td>$41.22</td>\n",
       "    </tr>\n",
       "    <tr>\n",
       "      <th>108</th>\n",
       "      <th>Extraction, Quickblade Of Trembling Hands</th>\n",
       "      <td>9</td>\n",
       "      <td>$3.53</td>\n",
       "      <td>$31.77</td>\n",
       "    </tr>\n",
       "    <tr>\n",
       "      <th>82</th>\n",
       "      <th>Nirvana</th>\n",
       "      <td>9</td>\n",
       "      <td>$4.90</td>\n",
       "      <td>$44.10</td>\n",
       "    </tr>\n",
       "    <tr>\n",
       "      <th>19</th>\n",
       "      <th>Pursuit, Cudgel of Necromancy</th>\n",
       "      <td>8</td>\n",
       "      <td>$1.02</td>\n",
       "      <td>$8.16</td>\n",
       "    </tr>\n",
       "  </tbody>\n",
       "</table>\n",
       "</div>"
      ],
      "text/plain": [
       "                                                     Purchase Count  \\\n",
       "Item ID Item Name                                                     \n",
       "178     Oathbreaker, Last Hope of the Breaking Storm             12   \n",
       "145     Fiery Glass Crusader                                      9   \n",
       "108     Extraction, Quickblade Of Trembling Hands                 9   \n",
       "82      Nirvana                                                   9   \n",
       "19      Pursuit, Cudgel of Necromancy                             8   \n",
       "\n",
       "                                                     Item Price  \\\n",
       "Item ID Item Name                                                 \n",
       "178     Oathbreaker, Last Hope of the Breaking Storm      $4.23   \n",
       "145     Fiery Glass Crusader                              $4.58   \n",
       "108     Extraction, Quickblade Of Trembling Hands         $3.53   \n",
       "82      Nirvana                                           $4.90   \n",
       "19      Pursuit, Cudgel of Necromancy                     $1.02   \n",
       "\n",
       "                                                     Total Purchase Value  \n",
       "Item ID Item Name                                                          \n",
       "178     Oathbreaker, Last Hope of the Breaking Storm               $50.76  \n",
       "145     Fiery Glass Crusader                                       $41.22  \n",
       "108     Extraction, Quickblade Of Trembling Hands                  $31.77  \n",
       "82      Nirvana                                                    $44.10  \n",
       "19      Pursuit, Cudgel of Necromancy                               $8.16  "
      ]
     },
     "execution_count": 9,
     "metadata": {},
     "output_type": "execute_result"
    }
   ],
   "source": []
  },
  {
   "cell_type": "code",
   "execution_count": 393,
   "metadata": {},
   "outputs": [
    {
     "data": {
      "text/html": [
       "<style  type=\"text/css\" >\n",
       "</style><table id=\"T_5d99e4d6_54f8_11ea_a087_88e9fe60cdd4\" ><thead>    <tr>        <th class=\"blank\" ></th>        <th class=\"blank level0\" ></th>        <th class=\"col_heading level0 col0\" >Purchase Count</th>        <th class=\"col_heading level0 col1\" >Item Price</th>        <th class=\"col_heading level0 col2\" >Total Purchase Value</th>    </tr>    <tr>        <th class=\"index_name level0\" >Item ID</th>        <th class=\"index_name level1\" >Item Name</th>        <th class=\"blank\" ></th>        <th class=\"blank\" ></th>        <th class=\"blank\" ></th>    </tr></thead><tbody>\n",
       "                <tr>\n",
       "                        <th id=\"T_5d99e4d6_54f8_11ea_a087_88e9fe60cdd4level0_row0\" class=\"row_heading level0 row0\" >178</th>\n",
       "                        <th id=\"T_5d99e4d6_54f8_11ea_a087_88e9fe60cdd4level1_row0\" class=\"row_heading level1 row0\" >Oathbreaker, Last Hope of the Breaking Storm</th>\n",
       "                        <td id=\"T_5d99e4d6_54f8_11ea_a087_88e9fe60cdd4row0_col0\" class=\"data row0 col0\" >12</td>\n",
       "                        <td id=\"T_5d99e4d6_54f8_11ea_a087_88e9fe60cdd4row0_col1\" class=\"data row0 col1\" >$4.23</td>\n",
       "                        <td id=\"T_5d99e4d6_54f8_11ea_a087_88e9fe60cdd4row0_col2\" class=\"data row0 col2\" >$50.76</td>\n",
       "            </tr>\n",
       "            <tr>\n",
       "                        <th id=\"T_5d99e4d6_54f8_11ea_a087_88e9fe60cdd4level0_row1\" class=\"row_heading level0 row1\" >145</th>\n",
       "                        <th id=\"T_5d99e4d6_54f8_11ea_a087_88e9fe60cdd4level1_row1\" class=\"row_heading level1 row1\" >Fiery Glass Crusader</th>\n",
       "                        <td id=\"T_5d99e4d6_54f8_11ea_a087_88e9fe60cdd4row1_col0\" class=\"data row1 col0\" >9</td>\n",
       "                        <td id=\"T_5d99e4d6_54f8_11ea_a087_88e9fe60cdd4row1_col1\" class=\"data row1 col1\" >$4.58</td>\n",
       "                        <td id=\"T_5d99e4d6_54f8_11ea_a087_88e9fe60cdd4row1_col2\" class=\"data row1 col2\" >$41.22</td>\n",
       "            </tr>\n",
       "            <tr>\n",
       "                        <th id=\"T_5d99e4d6_54f8_11ea_a087_88e9fe60cdd4level0_row2\" class=\"row_heading level0 row2\" >108</th>\n",
       "                        <th id=\"T_5d99e4d6_54f8_11ea_a087_88e9fe60cdd4level1_row2\" class=\"row_heading level1 row2\" >Extraction, Quickblade Of Trembling Hands</th>\n",
       "                        <td id=\"T_5d99e4d6_54f8_11ea_a087_88e9fe60cdd4row2_col0\" class=\"data row2 col0\" >9</td>\n",
       "                        <td id=\"T_5d99e4d6_54f8_11ea_a087_88e9fe60cdd4row2_col1\" class=\"data row2 col1\" >$3.53</td>\n",
       "                        <td id=\"T_5d99e4d6_54f8_11ea_a087_88e9fe60cdd4row2_col2\" class=\"data row2 col2\" >$31.77</td>\n",
       "            </tr>\n",
       "            <tr>\n",
       "                        <th id=\"T_5d99e4d6_54f8_11ea_a087_88e9fe60cdd4level0_row3\" class=\"row_heading level0 row3\" >82</th>\n",
       "                        <th id=\"T_5d99e4d6_54f8_11ea_a087_88e9fe60cdd4level1_row3\" class=\"row_heading level1 row3\" >Nirvana</th>\n",
       "                        <td id=\"T_5d99e4d6_54f8_11ea_a087_88e9fe60cdd4row3_col0\" class=\"data row3 col0\" >9</td>\n",
       "                        <td id=\"T_5d99e4d6_54f8_11ea_a087_88e9fe60cdd4row3_col1\" class=\"data row3 col1\" >$4.90</td>\n",
       "                        <td id=\"T_5d99e4d6_54f8_11ea_a087_88e9fe60cdd4row3_col2\" class=\"data row3 col2\" >$44.10</td>\n",
       "            </tr>\n",
       "            <tr>\n",
       "                        <th id=\"T_5d99e4d6_54f8_11ea_a087_88e9fe60cdd4level0_row4\" class=\"row_heading level0 row4\" >19</th>\n",
       "                        <th id=\"T_5d99e4d6_54f8_11ea_a087_88e9fe60cdd4level1_row4\" class=\"row_heading level1 row4\" >Pursuit, Cudgel of Necromancy</th>\n",
       "                        <td id=\"T_5d99e4d6_54f8_11ea_a087_88e9fe60cdd4row4_col0\" class=\"data row4 col0\" >8</td>\n",
       "                        <td id=\"T_5d99e4d6_54f8_11ea_a087_88e9fe60cdd4row4_col1\" class=\"data row4 col1\" >$1.02</td>\n",
       "                        <td id=\"T_5d99e4d6_54f8_11ea_a087_88e9fe60cdd4row4_col2\" class=\"data row4 col2\" >$8.16</td>\n",
       "            </tr>\n",
       "    </tbody></table>"
      ],
      "text/plain": [
       "<pandas.io.formats.style.Styler at 0x119137250>"
      ]
     },
     "execution_count": 393,
     "metadata": {},
     "output_type": "execute_result"
    }
   ],
   "source": [
    "# 'Purchase ID', 'SN', 'Age', 'Gender', 'Item ID', 'Item Name', 'Price'\n",
    "\n",
    "\n",
    "pi_df = purchase_data[['Item ID', 'Item Name', 'Price']]\n",
    "pi_df_grouped = pi_df.groupby(['Item ID', 'Item Name'])\n",
    "\n",
    "#create a new dictionary with the necessary values\n",
    "pi_d = {'Purchase Count': pi_df_grouped[\"Item ID\"].count(), \n",
    "        'Item Price': pi_df_grouped[\"Price\"].mean(),\n",
    "       'Total Purchase Value': pi_df_grouped[\"Price\"].sum(),\n",
    "    }\n",
    "\n",
    "#create a new summary data frame from the dictionary\n",
    "pi_df = pd.DataFrame(data=pi_d)\n",
    "sorted_pi = pi_df.sort_values(['Purchase Count'], ascending = False).head(5)\n",
    "\n",
    "\n",
    "pi_format_dict = {'Purchase Count': '{:,.0f}', \n",
    "                'Item Price': '${:,.2f}',\n",
    "                'Total Purchase Value': '${:,.2f}'}\n",
    "pi_print_df = sorted_pi.style.format(pi_format_dict)\n",
    "pi_print_df"
   ]
  },
  {
   "cell_type": "markdown",
   "metadata": {},
   "source": [
    "## Most Profitable Items"
   ]
  },
  {
   "cell_type": "markdown",
   "metadata": {},
   "source": [
    "* Sort the above table by total purchase value in descending order\n",
    "\n",
    "\n",
    "* Optional: give the displayed data cleaner formatting\n",
    "\n",
    "\n",
    "* Display a preview of the data frame\n",
    "\n"
   ]
  },
  {
   "cell_type": "code",
   "execution_count": 10,
   "metadata": {
    "scrolled": true
   },
   "outputs": [
    {
     "data": {
      "text/html": [
       "<div>\n",
       "<style scoped>\n",
       "    .dataframe tbody tr th:only-of-type {\n",
       "        vertical-align: middle;\n",
       "    }\n",
       "\n",
       "    .dataframe tbody tr th {\n",
       "        vertical-align: top;\n",
       "    }\n",
       "\n",
       "    .dataframe thead th {\n",
       "        text-align: right;\n",
       "    }\n",
       "</style>\n",
       "<table border=\"1\" class=\"dataframe\">\n",
       "  <thead>\n",
       "    <tr style=\"text-align: right;\">\n",
       "      <th></th>\n",
       "      <th></th>\n",
       "      <th>Purchase Count</th>\n",
       "      <th>Item Price</th>\n",
       "      <th>Total Purchase Value</th>\n",
       "    </tr>\n",
       "    <tr>\n",
       "      <th>Item ID</th>\n",
       "      <th>Item Name</th>\n",
       "      <th></th>\n",
       "      <th></th>\n",
       "      <th></th>\n",
       "    </tr>\n",
       "  </thead>\n",
       "  <tbody>\n",
       "    <tr>\n",
       "      <th>178</th>\n",
       "      <th>Oathbreaker, Last Hope of the Breaking Storm</th>\n",
       "      <td>12</td>\n",
       "      <td>$4.23</td>\n",
       "      <td>$50.76</td>\n",
       "    </tr>\n",
       "    <tr>\n",
       "      <th>82</th>\n",
       "      <th>Nirvana</th>\n",
       "      <td>9</td>\n",
       "      <td>$4.90</td>\n",
       "      <td>$44.10</td>\n",
       "    </tr>\n",
       "    <tr>\n",
       "      <th>145</th>\n",
       "      <th>Fiery Glass Crusader</th>\n",
       "      <td>9</td>\n",
       "      <td>$4.58</td>\n",
       "      <td>$41.22</td>\n",
       "    </tr>\n",
       "    <tr>\n",
       "      <th>92</th>\n",
       "      <th>Final Critic</th>\n",
       "      <td>8</td>\n",
       "      <td>$4.88</td>\n",
       "      <td>$39.04</td>\n",
       "    </tr>\n",
       "    <tr>\n",
       "      <th>103</th>\n",
       "      <th>Singed Scalpel</th>\n",
       "      <td>8</td>\n",
       "      <td>$4.35</td>\n",
       "      <td>$34.80</td>\n",
       "    </tr>\n",
       "  </tbody>\n",
       "</table>\n",
       "</div>"
      ],
      "text/plain": [
       "                                                     Purchase Count  \\\n",
       "Item ID Item Name                                                     \n",
       "178     Oathbreaker, Last Hope of the Breaking Storm             12   \n",
       "82      Nirvana                                                   9   \n",
       "145     Fiery Glass Crusader                                      9   \n",
       "92      Final Critic                                              8   \n",
       "103     Singed Scalpel                                            8   \n",
       "\n",
       "                                                     Item Price  \\\n",
       "Item ID Item Name                                                 \n",
       "178     Oathbreaker, Last Hope of the Breaking Storm      $4.23   \n",
       "82      Nirvana                                           $4.90   \n",
       "145     Fiery Glass Crusader                              $4.58   \n",
       "92      Final Critic                                      $4.88   \n",
       "103     Singed Scalpel                                    $4.35   \n",
       "\n",
       "                                                     Total Purchase Value  \n",
       "Item ID Item Name                                                          \n",
       "178     Oathbreaker, Last Hope of the Breaking Storm               $50.76  \n",
       "82      Nirvana                                                    $44.10  \n",
       "145     Fiery Glass Crusader                                       $41.22  \n",
       "92      Final Critic                                               $39.04  \n",
       "103     Singed Scalpel                                             $34.80  "
      ]
     },
     "execution_count": 10,
     "metadata": {},
     "output_type": "execute_result"
    }
   ],
   "source": [
    "sorted_pi2 = pi_df.sort_values(['Total Purchase Value'], ascending = False).head(5)\n",
    "pi_print_df2 = sorted_pi2.style.format(pi_format_dict)\n",
    "pi_print_df2"
   ]
  },
  {
   "cell_type": "code",
   "execution_count": 394,
   "metadata": {},
   "outputs": [
    {
     "data": {
      "text/html": [
       "<style  type=\"text/css\" >\n",
       "</style><table id=\"T_82c4302c_54f8_11ea_a087_88e9fe60cdd4\" ><thead>    <tr>        <th class=\"blank\" ></th>        <th class=\"blank level0\" ></th>        <th class=\"col_heading level0 col0\" >Purchase Count</th>        <th class=\"col_heading level0 col1\" >Item Price</th>        <th class=\"col_heading level0 col2\" >Total Purchase Value</th>    </tr>    <tr>        <th class=\"index_name level0\" >Item ID</th>        <th class=\"index_name level1\" >Item Name</th>        <th class=\"blank\" ></th>        <th class=\"blank\" ></th>        <th class=\"blank\" ></th>    </tr></thead><tbody>\n",
       "                <tr>\n",
       "                        <th id=\"T_82c4302c_54f8_11ea_a087_88e9fe60cdd4level0_row0\" class=\"row_heading level0 row0\" >178</th>\n",
       "                        <th id=\"T_82c4302c_54f8_11ea_a087_88e9fe60cdd4level1_row0\" class=\"row_heading level1 row0\" >Oathbreaker, Last Hope of the Breaking Storm</th>\n",
       "                        <td id=\"T_82c4302c_54f8_11ea_a087_88e9fe60cdd4row0_col0\" class=\"data row0 col0\" >12</td>\n",
       "                        <td id=\"T_82c4302c_54f8_11ea_a087_88e9fe60cdd4row0_col1\" class=\"data row0 col1\" >$4.23</td>\n",
       "                        <td id=\"T_82c4302c_54f8_11ea_a087_88e9fe60cdd4row0_col2\" class=\"data row0 col2\" >$50.76</td>\n",
       "            </tr>\n",
       "            <tr>\n",
       "                        <th id=\"T_82c4302c_54f8_11ea_a087_88e9fe60cdd4level0_row1\" class=\"row_heading level0 row1\" >82</th>\n",
       "                        <th id=\"T_82c4302c_54f8_11ea_a087_88e9fe60cdd4level1_row1\" class=\"row_heading level1 row1\" >Nirvana</th>\n",
       "                        <td id=\"T_82c4302c_54f8_11ea_a087_88e9fe60cdd4row1_col0\" class=\"data row1 col0\" >9</td>\n",
       "                        <td id=\"T_82c4302c_54f8_11ea_a087_88e9fe60cdd4row1_col1\" class=\"data row1 col1\" >$4.90</td>\n",
       "                        <td id=\"T_82c4302c_54f8_11ea_a087_88e9fe60cdd4row1_col2\" class=\"data row1 col2\" >$44.10</td>\n",
       "            </tr>\n",
       "            <tr>\n",
       "                        <th id=\"T_82c4302c_54f8_11ea_a087_88e9fe60cdd4level0_row2\" class=\"row_heading level0 row2\" >145</th>\n",
       "                        <th id=\"T_82c4302c_54f8_11ea_a087_88e9fe60cdd4level1_row2\" class=\"row_heading level1 row2\" >Fiery Glass Crusader</th>\n",
       "                        <td id=\"T_82c4302c_54f8_11ea_a087_88e9fe60cdd4row2_col0\" class=\"data row2 col0\" >9</td>\n",
       "                        <td id=\"T_82c4302c_54f8_11ea_a087_88e9fe60cdd4row2_col1\" class=\"data row2 col1\" >$4.58</td>\n",
       "                        <td id=\"T_82c4302c_54f8_11ea_a087_88e9fe60cdd4row2_col2\" class=\"data row2 col2\" >$41.22</td>\n",
       "            </tr>\n",
       "            <tr>\n",
       "                        <th id=\"T_82c4302c_54f8_11ea_a087_88e9fe60cdd4level0_row3\" class=\"row_heading level0 row3\" >92</th>\n",
       "                        <th id=\"T_82c4302c_54f8_11ea_a087_88e9fe60cdd4level1_row3\" class=\"row_heading level1 row3\" >Final Critic</th>\n",
       "                        <td id=\"T_82c4302c_54f8_11ea_a087_88e9fe60cdd4row3_col0\" class=\"data row3 col0\" >8</td>\n",
       "                        <td id=\"T_82c4302c_54f8_11ea_a087_88e9fe60cdd4row3_col1\" class=\"data row3 col1\" >$4.88</td>\n",
       "                        <td id=\"T_82c4302c_54f8_11ea_a087_88e9fe60cdd4row3_col2\" class=\"data row3 col2\" >$39.04</td>\n",
       "            </tr>\n",
       "            <tr>\n",
       "                        <th id=\"T_82c4302c_54f8_11ea_a087_88e9fe60cdd4level0_row4\" class=\"row_heading level0 row4\" >103</th>\n",
       "                        <th id=\"T_82c4302c_54f8_11ea_a087_88e9fe60cdd4level1_row4\" class=\"row_heading level1 row4\" >Singed Scalpel</th>\n",
       "                        <td id=\"T_82c4302c_54f8_11ea_a087_88e9fe60cdd4row4_col0\" class=\"data row4 col0\" >8</td>\n",
       "                        <td id=\"T_82c4302c_54f8_11ea_a087_88e9fe60cdd4row4_col1\" class=\"data row4 col1\" >$4.35</td>\n",
       "                        <td id=\"T_82c4302c_54f8_11ea_a087_88e9fe60cdd4row4_col2\" class=\"data row4 col2\" >$34.80</td>\n",
       "            </tr>\n",
       "    </tbody></table>"
      ],
      "text/plain": [
       "<pandas.io.formats.style.Styler at 0x119137a50>"
      ]
     },
     "execution_count": 394,
     "metadata": {},
     "output_type": "execute_result"
    }
   ],
   "source": [
    "sorted_pi2 = pi_df.sort_values(['Total Purchase Value'], ascending = False).head(5)\n",
    "pi_print_df2 = sorted_pi2.style.format(pi_format_dict)\n",
    "pi_print_df2"
   ]
  },
  {
   "cell_type": "code",
   "execution_count": null,
   "metadata": {},
   "outputs": [],
   "source": []
  }
 ],
 "metadata": {
  "anaconda-cloud": {},
  "kernel_info": {
   "name": "python3"
  },
  "kernelspec": {
   "display_name": "Python 3",
   "language": "python",
   "name": "python3"
  },
  "language_info": {
   "codemirror_mode": {
    "name": "ipython",
    "version": 3
   },
   "file_extension": ".py",
   "mimetype": "text/x-python",
   "name": "python",
   "nbconvert_exporter": "python",
   "pygments_lexer": "ipython3",
   "version": "3.7.6"
  },
  "latex_envs": {
   "LaTeX_envs_menu_present": true,
   "autoclose": false,
   "autocomplete": true,
   "bibliofile": "biblio.bib",
   "cite_by": "apalike",
   "current_citInitial": 1,
   "eqLabelWithNumbers": true,
   "eqNumInitial": 1,
   "hotkeys": {
    "equation": "Ctrl-E",
    "itemize": "Ctrl-I"
   },
   "labels_anchors": false,
   "latex_user_defs": false,
   "report_style_numbering": false,
   "user_envs_cfg": false
  },
  "nteract": {
   "version": "0.2.0"
  }
 },
 "nbformat": 4,
 "nbformat_minor": 2
}
